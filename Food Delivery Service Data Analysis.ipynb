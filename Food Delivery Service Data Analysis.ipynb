{
 "cells": [
  {
   "cell_type": "markdown",
   "metadata": {},
   "source": [
    "# Analysis of Delivery Data\n",
    "The provided data has a month’s worth of sample delivery data. The data is for 4 sales region and granularity is at order level where we get information about who is the driver, which restaurant it is ordered from and who is consumer (just the IDs and no other attributes), order’s total amount and any\n",
    "discount or refund on that order."
   ]
  },
  {
   "cell_type": "markdown",
   "metadata": {},
   "source": [
    "## Data Load"
   ]
  },
  {
   "cell_type": "code",
   "execution_count": 70,
   "metadata": {},
   "outputs": [],
   "source": [
    "#Loading libraries and data\n",
    "import numpy as np\n",
    "import pandas as pd\n",
    "import matplotlib.pyplot as plt\n",
    "import seaborn as sns\n",
    "from datetime import datetime\n",
    "from pytz import timezone\n",
    "import pytz\n",
    "%matplotlib inline\n",
    "import warnings; warnings.simplefilter('ignore')\n",
    "\n",
    "df = pd.read_csv(\"sampledata.csv\")"
   ]
  },
  {
   "cell_type": "markdown",
   "metadata": {},
   "source": [
    "## **Data Wrangling and Assessment**"
   ]
  },
  {
   "cell_type": "code",
   "execution_count": 71,
   "metadata": {},
   "outputs": [
    {
     "data": {
      "text/html": [
       "<div>\n",
       "<style scoped>\n",
       "    .dataframe tbody tr th:only-of-type {\n",
       "        vertical-align: middle;\n",
       "    }\n",
       "\n",
       "    .dataframe tbody tr th {\n",
       "        vertical-align: top;\n",
       "    }\n",
       "\n",
       "    .dataframe thead th {\n",
       "        text-align: right;\n",
       "    }\n",
       "</style>\n",
       "<table border=\"1\" class=\"dataframe\">\n",
       "  <thead>\n",
       "    <tr style=\"text-align: right;\">\n",
       "      <th></th>\n",
       "      <th>Customer placed order datetime</th>\n",
       "      <th>Placed order with restaurant datetime</th>\n",
       "      <th>Driver at restaurant datetime</th>\n",
       "      <th>Delivered to consumer datetime</th>\n",
       "      <th>Driver ID</th>\n",
       "      <th>Restaurant ID</th>\n",
       "      <th>Consumer ID</th>\n",
       "      <th>Is New</th>\n",
       "      <th>Delivery Region</th>\n",
       "      <th>Is ASAP</th>\n",
       "      <th>Order total</th>\n",
       "      <th>Amount of discount</th>\n",
       "      <th>Amount of tip</th>\n",
       "      <th>Refunded amount</th>\n",
       "    </tr>\n",
       "  </thead>\n",
       "  <tbody>\n",
       "    <tr>\n",
       "      <th>0</th>\n",
       "      <td>14 20:27:45</td>\n",
       "      <td>14 20:29:41</td>\n",
       "      <td>14 20:39:32</td>\n",
       "      <td>14 20:52:03</td>\n",
       "      <td>86</td>\n",
       "      <td>12</td>\n",
       "      <td>5</td>\n",
       "      <td>False</td>\n",
       "      <td>Palo Alto</td>\n",
       "      <td>True</td>\n",
       "      <td>20.45</td>\n",
       "      <td>20.45</td>\n",
       "      <td>3.07</td>\n",
       "      <td>0.0</td>\n",
       "    </tr>\n",
       "  </tbody>\n",
       "</table>\n",
       "</div>"
      ],
      "text/plain": [
       "  Customer placed order datetime Placed order with restaurant datetime  \\\n",
       "0                    14 20:27:45                           14 20:29:41   \n",
       "\n",
       "  Driver at restaurant datetime Delivered to consumer datetime  Driver ID  \\\n",
       "0                   14 20:39:32                    14 20:52:03         86   \n",
       "\n",
       "   Restaurant ID  Consumer ID  Is New Delivery Region  Is ASAP  Order total  \\\n",
       "0             12            5   False       Palo Alto     True        20.45   \n",
       "\n",
       "   Amount of discount  Amount of tip  Refunded amount  \n",
       "0               20.45           3.07              0.0  "
      ]
     },
     "execution_count": 71,
     "metadata": {},
     "output_type": "execute_result"
    }
   ],
   "source": [
    "df.head(1)"
   ]
  },
  {
   "cell_type": "code",
   "execution_count": 72,
   "metadata": {},
   "outputs": [
    {
     "data": {
      "text/html": [
       "<div>\n",
       "<style scoped>\n",
       "    .dataframe tbody tr th:only-of-type {\n",
       "        vertical-align: middle;\n",
       "    }\n",
       "\n",
       "    .dataframe tbody tr th {\n",
       "        vertical-align: top;\n",
       "    }\n",
       "\n",
       "    .dataframe thead th {\n",
       "        text-align: right;\n",
       "    }\n",
       "</style>\n",
       "<table border=\"1\" class=\"dataframe\">\n",
       "  <thead>\n",
       "    <tr style=\"text-align: right;\">\n",
       "      <th></th>\n",
       "      <th>customer_placed_order_datetime</th>\n",
       "      <th>placed_order_with_restaurant_datetime</th>\n",
       "      <th>driver_at_restaurant_datetime</th>\n",
       "      <th>delivered_to_consumer_datetime</th>\n",
       "      <th>driver_id</th>\n",
       "      <th>restaurant_id</th>\n",
       "      <th>consumer_id</th>\n",
       "      <th>is_new</th>\n",
       "      <th>delivery_region</th>\n",
       "      <th>is_asap</th>\n",
       "      <th>order_total</th>\n",
       "      <th>amount_of_discount</th>\n",
       "      <th>amount_of_tip</th>\n",
       "      <th>refunded_amount</th>\n",
       "    </tr>\n",
       "  </thead>\n",
       "  <tbody>\n",
       "    <tr>\n",
       "      <th>0</th>\n",
       "      <td>14 20:27:45</td>\n",
       "      <td>14 20:29:41</td>\n",
       "      <td>14 20:39:32</td>\n",
       "      <td>14 20:52:03</td>\n",
       "      <td>86</td>\n",
       "      <td>12</td>\n",
       "      <td>5</td>\n",
       "      <td>False</td>\n",
       "      <td>Palo Alto</td>\n",
       "      <td>True</td>\n",
       "      <td>20.45</td>\n",
       "      <td>20.45</td>\n",
       "      <td>3.07</td>\n",
       "      <td>0.0</td>\n",
       "    </tr>\n",
       "  </tbody>\n",
       "</table>\n",
       "</div>"
      ],
      "text/plain": [
       "  customer_placed_order_datetime placed_order_with_restaurant_datetime  \\\n",
       "0                    14 20:27:45                           14 20:29:41   \n",
       "\n",
       "  driver_at_restaurant_datetime delivered_to_consumer_datetime  driver_id  \\\n",
       "0                   14 20:39:32                    14 20:52:03         86   \n",
       "\n",
       "   restaurant_id  consumer_id  is_new delivery_region  is_asap  order_total  \\\n",
       "0             12            5   False       Palo Alto     True        20.45   \n",
       "\n",
       "   amount_of_discount  amount_of_tip  refunded_amount  \n",
       "0               20.45           3.07              0.0  "
      ]
     },
     "execution_count": 72,
     "metadata": {},
     "output_type": "execute_result"
    }
   ],
   "source": [
    "#changing column names to lower case and separate by '_'\n",
    "df.rename(columns=lambda x: x.strip().lower().replace(\" \", \"_\"), inplace=True)\n",
    "df.head(1)"
   ]
  },
  {
   "cell_type": "code",
   "execution_count": 73,
   "metadata": {},
   "outputs": [
    {
     "name": "stdout",
     "output_type": "stream",
     "text": [
      "<class 'pandas.core.frame.DataFrame'>\n",
      "RangeIndex: 18078 entries, 0 to 18077\n",
      "Data columns (total 14 columns):\n",
      "customer_placed_order_datetime           18078 non-null object\n",
      "placed_order_with_restaurant_datetime    18038 non-null object\n",
      "driver_at_restaurant_datetime            13547 non-null object\n",
      "delivered_to_consumer_datetime           18078 non-null object\n",
      "driver_id                                18078 non-null int64\n",
      "restaurant_id                            18078 non-null int64\n",
      "consumer_id                              18078 non-null int64\n",
      "is_new                                   18078 non-null bool\n",
      "delivery_region                          18078 non-null object\n",
      "is_asap                                  18078 non-null bool\n",
      "order_total                              18078 non-null float64\n",
      "amount_of_discount                       18078 non-null float64\n",
      "amount_of_tip                            18078 non-null float64\n",
      "refunded_amount                          18078 non-null float64\n",
      "dtypes: bool(2), float64(4), int64(3), object(5)\n",
      "memory usage: 1.7+ MB\n"
     ]
    }
   ],
   "source": [
    "df.info()"
   ]
  },
  {
   "cell_type": "code",
   "execution_count": 74,
   "metadata": {},
   "outputs": [],
   "source": [
    "#dropping records with no datetime information for order placed at restaurant and driver at restaurant datetime. \n",
    "#This gives us 13524 records for our analysis\n",
    "newdf = df.dropna(subset=['driver_at_restaurant_datetime','placed_order_with_restaurant_datetime'])"
   ]
  },
  {
   "cell_type": "code",
   "execution_count": 75,
   "metadata": {},
   "outputs": [
    {
     "data": {
      "text/plain": [
       "(13524, 14)"
      ]
     },
     "execution_count": 75,
     "metadata": {},
     "output_type": "execute_result"
    }
   ],
   "source": [
    "newdf.shape"
   ]
  },
  {
   "cell_type": "code",
   "execution_count": 76,
   "metadata": {},
   "outputs": [
    {
     "data": {
      "text/html": [
       "<div>\n",
       "<style scoped>\n",
       "    .dataframe tbody tr th:only-of-type {\n",
       "        vertical-align: middle;\n",
       "    }\n",
       "\n",
       "    .dataframe tbody tr th {\n",
       "        vertical-align: top;\n",
       "    }\n",
       "\n",
       "    .dataframe thead th {\n",
       "        text-align: right;\n",
       "    }\n",
       "</style>\n",
       "<table border=\"1\" class=\"dataframe\">\n",
       "  <thead>\n",
       "    <tr style=\"text-align: right;\">\n",
       "      <th></th>\n",
       "      <th>driver_id</th>\n",
       "      <th>restaurant_id</th>\n",
       "      <th>consumer_id</th>\n",
       "      <th>order_total</th>\n",
       "      <th>amount_of_discount</th>\n",
       "      <th>amount_of_tip</th>\n",
       "      <th>refunded_amount</th>\n",
       "    </tr>\n",
       "  </thead>\n",
       "  <tbody>\n",
       "    <tr>\n",
       "      <th>count</th>\n",
       "      <td>13524.000000</td>\n",
       "      <td>13524.000000</td>\n",
       "      <td>13524.000000</td>\n",
       "      <td>13524.000000</td>\n",
       "      <td>13524.000000</td>\n",
       "      <td>13524.000000</td>\n",
       "      <td>13524.000000</td>\n",
       "    </tr>\n",
       "    <tr>\n",
       "      <th>mean</th>\n",
       "      <td>223.711846</td>\n",
       "      <td>106.862245</td>\n",
       "      <td>30560.502736</td>\n",
       "      <td>50.992709</td>\n",
       "      <td>1.356401</td>\n",
       "      <td>3.506427</td>\n",
       "      <td>0.562210</td>\n",
       "    </tr>\n",
       "    <tr>\n",
       "      <th>std</th>\n",
       "      <td>104.646973</td>\n",
       "      <td>98.146805</td>\n",
       "      <td>39460.683144</td>\n",
       "      <td>44.776069</td>\n",
       "      <td>6.332503</td>\n",
       "      <td>3.708116</td>\n",
       "      <td>5.938201</td>\n",
       "    </tr>\n",
       "    <tr>\n",
       "      <th>min</th>\n",
       "      <td>7.000000</td>\n",
       "      <td>2.000000</td>\n",
       "      <td>5.000000</td>\n",
       "      <td>3.210000</td>\n",
       "      <td>0.000000</td>\n",
       "      <td>0.000000</td>\n",
       "      <td>0.000000</td>\n",
       "    </tr>\n",
       "    <tr>\n",
       "      <th>25%</th>\n",
       "      <td>144.000000</td>\n",
       "      <td>20.000000</td>\n",
       "      <td>4115.000000</td>\n",
       "      <td>26.660000</td>\n",
       "      <td>0.000000</td>\n",
       "      <td>1.410000</td>\n",
       "      <td>0.000000</td>\n",
       "    </tr>\n",
       "    <tr>\n",
       "      <th>50%</th>\n",
       "      <td>228.000000</td>\n",
       "      <td>76.000000</td>\n",
       "      <td>10703.000000</td>\n",
       "      <td>38.700000</td>\n",
       "      <td>0.000000</td>\n",
       "      <td>2.580000</td>\n",
       "      <td>0.000000</td>\n",
       "    </tr>\n",
       "    <tr>\n",
       "      <th>75%</th>\n",
       "      <td>314.000000</td>\n",
       "      <td>183.000000</td>\n",
       "      <td>55126.250000</td>\n",
       "      <td>58.090000</td>\n",
       "      <td>0.000000</td>\n",
       "      <td>4.480000</td>\n",
       "      <td>0.000000</td>\n",
       "    </tr>\n",
       "    <tr>\n",
       "      <th>max</th>\n",
       "      <td>438.000000</td>\n",
       "      <td>409.000000</td>\n",
       "      <td>200449.000000</td>\n",
       "      <td>884.180000</td>\n",
       "      <td>162.890000</td>\n",
       "      <td>120.300000</td>\n",
       "      <td>414.770000</td>\n",
       "    </tr>\n",
       "  </tbody>\n",
       "</table>\n",
       "</div>"
      ],
      "text/plain": [
       "          driver_id  restaurant_id    consumer_id   order_total  \\\n",
       "count  13524.000000   13524.000000   13524.000000  13524.000000   \n",
       "mean     223.711846     106.862245   30560.502736     50.992709   \n",
       "std      104.646973      98.146805   39460.683144     44.776069   \n",
       "min        7.000000       2.000000       5.000000      3.210000   \n",
       "25%      144.000000      20.000000    4115.000000     26.660000   \n",
       "50%      228.000000      76.000000   10703.000000     38.700000   \n",
       "75%      314.000000     183.000000   55126.250000     58.090000   \n",
       "max      438.000000     409.000000  200449.000000    884.180000   \n",
       "\n",
       "       amount_of_discount  amount_of_tip  refunded_amount  \n",
       "count        13524.000000   13524.000000     13524.000000  \n",
       "mean             1.356401       3.506427         0.562210  \n",
       "std              6.332503       3.708116         5.938201  \n",
       "min              0.000000       0.000000         0.000000  \n",
       "25%              0.000000       1.410000         0.000000  \n",
       "50%              0.000000       2.580000         0.000000  \n",
       "75%              0.000000       4.480000         0.000000  \n",
       "max            162.890000     120.300000       414.770000  "
      ]
     },
     "execution_count": 76,
     "metadata": {},
     "output_type": "execute_result"
    }
   ],
   "source": [
    "newdf.describe()"
   ]
  },
  {
   "cell_type": "markdown",
   "metadata": {},
   "source": [
    "**Observation**: The mean order total is 51 dollars with a mean of 3.5 dollars tip, which shows on an average the drivers get around 6.8% tip per order."
   ]
  },
  {
   "cell_type": "code",
   "execution_count": 77,
   "metadata": {},
   "outputs": [
    {
     "data": {
      "image/png": "[encoded data removed]",
      "text/plain": [
       "<Figure size 864x432 with 2 Axes>"
      ]
     },
     "metadata": {
      "needs_background": "light"
     },
     "output_type": "display_data"
    }
   ],
   "source": [
    "#Finding correlation among different data points using a heat map\n",
    "corr = newdf.corr()\n",
    "plt.figure(figsize = (12,6))\n",
    "sns.heatmap(corr, annot=True, linewidths=0.5);"
   ]
  },
  {
   "cell_type": "markdown",
   "metadata": {},
   "source": [
    "**Observation :** Above heat map shows that amount of tip is definilty positively correlated with order total, which indicates that consumers are tipping the drivers a percentage of order total and not just a fixed amount."
   ]
  },
  {
   "cell_type": "markdown",
   "metadata": {},
   "source": [
    "#### Converting from UTC to PST "
   ]
  },
  {
   "cell_type": "code",
   "execution_count": 78,
   "metadata": {},
   "outputs": [],
   "source": [
    "newdf['customer_placed_order_day'] = newdf['customer_placed_order_datetime'].apply(lambda x: x.split(\" \")[0]);\n",
    "newdf['customer_placed_order_time'] = newdf['customer_placed_order_datetime'].apply(lambda x: x.split(\" \")[1]);\n",
    "\n",
    "newdf['placed_order_with_restaurant_day'] = newdf['placed_order_with_restaurant_datetime'].apply(lambda x: x.split(\" \")[0]);\n",
    "newdf['placed_order_with_restaurant_time'] = newdf['placed_order_with_restaurant_datetime'].apply(lambda x: x.split(\" \")[1]);\n",
    "\n",
    "newdf['driver_at_restaurant_day'] = newdf['driver_at_restaurant_datetime'].apply(lambda x: x.split(\" \")[0]);\n",
    "newdf['driver_at_restaurant_time'] = newdf['driver_at_restaurant_datetime'].apply(lambda x: x.split(\" \")[1]);\n",
    "\n",
    "newdf['delivered_to_consumer_day'] = newdf['delivered_to_consumer_datetime'].apply(lambda x: x.split(\" \")[0]);\n",
    "newdf['delivered_to_consumer_time'] = newdf['delivered_to_consumer_datetime'].apply(lambda x: x.split(\" \")[1]);"
   ]
  },
  {
   "cell_type": "code",
   "execution_count": 79,
   "metadata": {},
   "outputs": [],
   "source": [
    "\n",
    "newdf['placed_order_with_restaurant_temp'] = '03-'+newdf['placed_order_with_restaurant_day'].astype(str) + '-2016'\n",
    "\n",
    "newdf['driver_at_restaurant_temp'] = '03-'+newdf['driver_at_restaurant_day'].astype(str) + '-2016'\n",
    "\n",
    "newdf['customer_placed_order_temp'] = '03-'+newdf['customer_placed_order_day'].astype(str) + '-2016'\n",
    "\n",
    "newdf['delivered_to_consumer_temp'] = '03-'+newdf['delivered_to_consumer_day'].astype(str) + '-2016'"
   ]
  },
  {
   "cell_type": "code",
   "execution_count": 80,
   "metadata": {},
   "outputs": [
    {
     "data": {
      "text/plain": [
       "0    03-14-2016\n",
       "1    03-07-2016\n",
       "2    03-13-2016\n",
       "3    03-22-2016\n",
       "4    03-03-2016\n",
       "Name: placed_order_with_restaurant_temp, dtype: object"
      ]
     },
     "execution_count": 80,
     "metadata": {},
     "output_type": "execute_result"
    }
   ],
   "source": [
    "newdf['placed_order_with_restaurant_temp'].head()"
   ]
  },
  {
   "cell_type": "code",
   "execution_count": 81,
   "metadata": {},
   "outputs": [],
   "source": [
    "newdf['placed_order_with_restaurant_utc'] = pd.to_datetime(newdf['placed_order_with_restaurant_temp'] +' '+ newdf['placed_order_with_restaurant_time'])\n",
    "\n",
    "newdf['driver_at_restaurant_utc'] = pd.to_datetime(newdf['driver_at_restaurant_temp'] +' '+ newdf['driver_at_restaurant_time'])\n",
    "\n",
    "newdf['customer_placed_order_utc'] = pd.to_datetime(newdf['customer_placed_order_temp'] +' '+ newdf['customer_placed_order_time'])\n",
    "\n",
    "newdf['delivered_to_consumer_utc'] = pd.to_datetime(newdf['delivered_to_consumer_temp'] +' '+ newdf['delivered_to_consumer_time'])"
   ]
  },
  {
   "cell_type": "code",
   "execution_count": 83,
   "metadata": {},
   "outputs": [],
   "source": [
    "newdf['placed_order_with_restaurant_pst'] = newdf['placed_order_with_restaurant_utc'].dt.tz_localize('UTC').dt.tz_convert('US/Pacific')\n",
    "\n",
    "newdf['driver_at_restaurant_pst'] = newdf['driver_at_restaurant_utc'].dt.tz_localize('UTC').dt.tz_convert('US/Pacific')\n",
    "\n",
    "newdf['customer_placed_order_pst'] = newdf['customer_placed_order_utc'].dt.tz_localize('UTC').dt.tz_convert('US/Pacific')\n",
    "\n",
    "newdf['delivered_to_consumer_pst'] = newdf['delivered_to_consumer_utc'].dt.tz_localize('UTC').dt.tz_convert('US/Pacific')"
   ]
  },
  {
   "cell_type": "markdown",
   "metadata": {},
   "source": [
    "## Analysis"
   ]
  },
  {
   "cell_type": "markdown",
   "metadata": {},
   "source": [
    "### Regions where the service is most popular based on number of orders and order amount"
   ]
  },
  {
   "cell_type": "code",
   "execution_count": 85,
   "metadata": {},
   "outputs": [],
   "source": [
    "#order total by region\n",
    "regions_sales = newdf.groupby('delivery_region',as_index=False).agg({'order_total':{'total_amount':'sum','order_count':'count'}})"
   ]
  },
  {
   "cell_type": "code",
   "execution_count": 86,
   "metadata": {},
   "outputs": [
    {
     "data": {
      "image/png": "[encoded data removed]",
      "text/plain": [
       "<Figure size 720x288 with 1 Axes>"
      ]
     },
     "metadata": {},
     "output_type": "display_data"
    }
   ],
   "source": [
    "sns.set(style=\"darkgrid\")\n",
    "a4_dims=(10,4)\n",
    "fig, ax = plt.subplots(figsize=a4_dims)\n",
    "gr = sns.barplot(x=\"delivery_region\",y=('order_total','order_count'),data=regions_sales)\n",
    "gr.set_xticklabels(ax.get_xticklabels(),rotation=90);\n",
    "gr.set_title(\"Number of Orders by Region\",fontsize=15);\n",
    "ax.set(ylabel=' Number of Orders ', xlabel='Regions');\n"
   ]
  },
  {
   "cell_type": "code",
   "execution_count": 87,
   "metadata": {},
   "outputs": [
    {
     "data": {
      "image/png": "[encoded data removed]",
      "text/plain": [
       "<Figure size 720x288 with 1 Axes>"
      ]
     },
     "metadata": {},
     "output_type": "display_data"
    }
   ],
   "source": [
    "#orders by region\n",
    "sns.set(style=\"darkgrid\")\n",
    "a4_dims=(10,4)\n",
    "fig, ax = plt.subplots(figsize=a4_dims)\n",
    "gr = sns.barplot(x=\"delivery_region\",y=('order_total','total_amount'),data=regions_sales)\n",
    "gr.set_xticklabels(ax.get_xticklabels(),rotation=90);\n",
    "gr.set_title(\"Order Total by Region\",fontsize=15);\n",
    "ax.set(ylabel=' $ ', xlabel='Regions');"
   ]
  },
  {
   "cell_type": "markdown",
   "metadata": {},
   "source": [
    "**Observation:** Palo Alto has the highest number of orders followed by Mountain View and San Jose. This shows that the service  is most popular in palo alto region but needs more awareness in the nearby areas. We will dig deeper to understand what is driving the orders in Palo Alto vs other regions"
   ]
  },
  {
   "cell_type": "markdown",
   "metadata": {},
   "source": [
    "### Calculating Metrics - Prep Time, Delivery Time"
   ]
  },
  {
   "cell_type": "markdown",
   "metadata": {},
   "source": [
    ">**Prep Time** and **Delivery Time** - "
   ]
  },
  {
   "cell_type": "code",
   "execution_count": 88,
   "metadata": {},
   "outputs": [],
   "source": [
    "#Prep Time - Time between order placed at restaurant and driver arriving at the restaurant to pick. The definition is assuming that the driver arrives when the food is ready\n",
    "newdf['prep_time'] = newdf['driver_at_restaurant_pst']-newdf['placed_order_with_restaurant_pst']"
   ]
  },
  {
   "cell_type": "code",
   "execution_count": 89,
   "metadata": {},
   "outputs": [],
   "source": [
    "#Delivery Time - The difference between the time driver arrived at the restaurant and the time the food was delivered to the consumers\n",
    "newdf['delivery_time'] = newdf['delivered_to_consumer_pst']-newdf['driver_at_restaurant_pst']"
   ]
  },
  {
   "cell_type": "code",
   "execution_count": 90,
   "metadata": {},
   "outputs": [],
   "source": [
    "#Converting to mins\n",
    "newdf['prep_time'] = newdf['prep_time'].astype('timedelta64[m]')\n",
    "newdf['delivery_time'] = newdf['delivery_time'].astype('timedelta64[m]')"
   ]
  },
  {
   "cell_type": "code",
   "execution_count": 91,
   "metadata": {},
   "outputs": [],
   "source": [
    "#Dropping the records where the prep time is negative due to the conversion from UTC to PST\n",
    "newdf.drop(newdf[newdf['prep_time']<(-5)].index,inplace=True)"
   ]
  },
  {
   "cell_type": "code",
   "execution_count": 92,
   "metadata": {},
   "outputs": [],
   "source": [
    "newdf.drop(newdf[newdf['delivery_time']<(-5)].index,inplace=True)"
   ]
  },
  {
   "cell_type": "code",
   "execution_count": 93,
   "metadata": {},
   "outputs": [
    {
     "data": {
      "text/html": [
       "<div>\n",
       "<style scoped>\n",
       "    .dataframe tbody tr th:only-of-type {\n",
       "        vertical-align: middle;\n",
       "    }\n",
       "\n",
       "    .dataframe tbody tr th {\n",
       "        vertical-align: top;\n",
       "    }\n",
       "\n",
       "    .dataframe thead th {\n",
       "        text-align: right;\n",
       "    }\n",
       "</style>\n",
       "<table border=\"1\" class=\"dataframe\">\n",
       "  <thead>\n",
       "    <tr style=\"text-align: right;\">\n",
       "      <th></th>\n",
       "      <th>delivery_region</th>\n",
       "      <th>prep_time</th>\n",
       "      <th>delivery_time</th>\n",
       "    </tr>\n",
       "  </thead>\n",
       "  <tbody>\n",
       "    <tr>\n",
       "      <th>0</th>\n",
       "      <td>Mountain View</td>\n",
       "      <td>33.547810</td>\n",
       "      <td>22.575547</td>\n",
       "    </tr>\n",
       "    <tr>\n",
       "      <th>2</th>\n",
       "      <td>Palo Alto</td>\n",
       "      <td>18.775244</td>\n",
       "      <td>23.792462</td>\n",
       "    </tr>\n",
       "    <tr>\n",
       "      <th>3</th>\n",
       "      <td>San Jose</td>\n",
       "      <td>17.352717</td>\n",
       "      <td>24.348904</td>\n",
       "    </tr>\n",
       "  </tbody>\n",
       "</table>\n",
       "</div>"
      ],
      "text/plain": [
       "  delivery_region  prep_time  delivery_time\n",
       "0   Mountain View  33.547810      22.575547\n",
       "2       Palo Alto  18.775244      23.792462\n",
       "3        San Jose  17.352717      24.348904"
      ]
     },
     "execution_count": 93,
     "metadata": {},
     "output_type": "execute_result"
    }
   ],
   "source": [
    "avgdf = newdf.groupby('delivery_region',as_index=False).agg({'prep_time':'mean','delivery_time':'mean'})\n",
    "avgdf.drop(avgdf[avgdf['delivery_region']=='None'].index,inplace=True)\n",
    "avgdf"
   ]
  },
  {
   "cell_type": "code",
   "execution_count": 94,
   "metadata": {},
   "outputs": [],
   "source": [
    "avgdf=avgdf.melt(id_vars=\"delivery_region\", var_name=\"metric\", value_name=\"avg_time\",)"
   ]
  },
  {
   "cell_type": "code",
   "execution_count": 95,
   "metadata": {},
   "outputs": [
    {
     "data": {
      "image/png": "[encoded data removed]",
      "text/plain": [
       "<Figure size 464.85x360 with 1 Axes>"
      ]
     },
     "metadata": {},
     "output_type": "display_data"
    }
   ],
   "source": [
    "sns.set(style=\"darkgrid\")\n",
    "a4_dims=(12,4)\n",
    "gr=sns.factorplot(x='delivery_region', y='avg_time', hue='metric', data=avgdf, kind='bar');\n",
    "gr.fig.suptitle(\"Delivery and Prep Time by Region\",fontsize=15);"
   ]
  },
  {
   "cell_type": "code",
   "execution_count": 96,
   "metadata": {},
   "outputs": [
    {
     "data": {
      "text/html": [
       "<div>\n",
       "<style scoped>\n",
       "    .dataframe tbody tr th:only-of-type {\n",
       "        vertical-align: middle;\n",
       "    }\n",
       "\n",
       "    .dataframe tbody tr th {\n",
       "        vertical-align: top;\n",
       "    }\n",
       "\n",
       "    .dataframe thead th {\n",
       "        text-align: right;\n",
       "    }\n",
       "</style>\n",
       "<table border=\"1\" class=\"dataframe\">\n",
       "  <thead>\n",
       "    <tr style=\"text-align: right;\">\n",
       "      <th></th>\n",
       "      <th>delivery_region</th>\n",
       "      <th>driver_id</th>\n",
       "    </tr>\n",
       "  </thead>\n",
       "  <tbody>\n",
       "    <tr>\n",
       "      <th>0</th>\n",
       "      <td>Mountain View</td>\n",
       "      <td>120</td>\n",
       "    </tr>\n",
       "    <tr>\n",
       "      <th>1</th>\n",
       "      <td>None</td>\n",
       "      <td>8</td>\n",
       "    </tr>\n",
       "    <tr>\n",
       "      <th>2</th>\n",
       "      <td>Palo Alto</td>\n",
       "      <td>226</td>\n",
       "    </tr>\n",
       "    <tr>\n",
       "      <th>3</th>\n",
       "      <td>San Jose</td>\n",
       "      <td>85</td>\n",
       "    </tr>\n",
       "  </tbody>\n",
       "</table>\n",
       "</div>"
      ],
      "text/plain": [
       "  delivery_region  driver_id\n",
       "0   Mountain View        120\n",
       "1            None          8\n",
       "2       Palo Alto        226\n",
       "3        San Jose         85"
      ]
     },
     "execution_count": 96,
     "metadata": {},
     "output_type": "execute_result"
    }
   ],
   "source": [
    "driver_count = newdf.groupby('delivery_region')['driver_id'].nunique().reset_index()\n",
    "pd.DataFrame(driver_count)"
   ]
  },
  {
   "cell_type": "code",
   "execution_count": 97,
   "metadata": {},
   "outputs": [
    {
     "data": {
      "text/html": [
       "<div>\n",
       "<style scoped>\n",
       "    .dataframe tbody tr th:only-of-type {\n",
       "        vertical-align: middle;\n",
       "    }\n",
       "\n",
       "    .dataframe tbody tr th {\n",
       "        vertical-align: top;\n",
       "    }\n",
       "\n",
       "    .dataframe thead th {\n",
       "        text-align: right;\n",
       "    }\n",
       "</style>\n",
       "<table border=\"1\" class=\"dataframe\">\n",
       "  <thead>\n",
       "    <tr style=\"text-align: right;\">\n",
       "      <th></th>\n",
       "      <th>delivery_region</th>\n",
       "      <th>driver_id</th>\n",
       "    </tr>\n",
       "  </thead>\n",
       "  <tbody>\n",
       "    <tr>\n",
       "      <th>0</th>\n",
       "      <td>Mountain View</td>\n",
       "      <td>2740</td>\n",
       "    </tr>\n",
       "    <tr>\n",
       "      <th>1</th>\n",
       "      <td>None</td>\n",
       "      <td>15</td>\n",
       "    </tr>\n",
       "    <tr>\n",
       "      <th>2</th>\n",
       "      <td>Palo Alto</td>\n",
       "      <td>8596</td>\n",
       "    </tr>\n",
       "    <tr>\n",
       "      <th>3</th>\n",
       "      <td>San Jose</td>\n",
       "      <td>2098</td>\n",
       "    </tr>\n",
       "  </tbody>\n",
       "</table>\n",
       "</div>"
      ],
      "text/plain": [
       "  delivery_region  driver_id\n",
       "0   Mountain View       2740\n",
       "1            None         15\n",
       "2       Palo Alto       8596\n",
       "3        San Jose       2098"
      ]
     },
     "execution_count": 97,
     "metadata": {},
     "output_type": "execute_result"
    }
   ],
   "source": [
    "#counting the number of orders in each region\n",
    "order_count = newdf.groupby(['delivery_region'])['driver_id'].count().reset_index()\n",
    "pd.DataFrame(order_count)"
   ]
  },
  {
   "cell_type": "code",
   "execution_count": 98,
   "metadata": {},
   "outputs": [],
   "source": [
    "#merging data frames\n",
    "ratio_df=driver_count.merge(order_count,on='delivery_region')"
   ]
  },
  {
   "cell_type": "code",
   "execution_count": 99,
   "metadata": {},
   "outputs": [
    {
     "data": {
      "text/html": [
       "<div>\n",
       "<style scoped>\n",
       "    .dataframe tbody tr th:only-of-type {\n",
       "        vertical-align: middle;\n",
       "    }\n",
       "\n",
       "    .dataframe tbody tr th {\n",
       "        vertical-align: top;\n",
       "    }\n",
       "\n",
       "    .dataframe thead th {\n",
       "        text-align: right;\n",
       "    }\n",
       "</style>\n",
       "<table border=\"1\" class=\"dataframe\">\n",
       "  <thead>\n",
       "    <tr style=\"text-align: right;\">\n",
       "      <th></th>\n",
       "      <th>delivery_region</th>\n",
       "      <th>driver_id_x</th>\n",
       "      <th>driver_id_y</th>\n",
       "      <th>avg_order</th>\n",
       "    </tr>\n",
       "  </thead>\n",
       "  <tbody>\n",
       "    <tr>\n",
       "      <th>0</th>\n",
       "      <td>Mountain View</td>\n",
       "      <td>120</td>\n",
       "      <td>2740</td>\n",
       "      <td>22.833333</td>\n",
       "    </tr>\n",
       "    <tr>\n",
       "      <th>1</th>\n",
       "      <td>None</td>\n",
       "      <td>8</td>\n",
       "      <td>15</td>\n",
       "      <td>1.875000</td>\n",
       "    </tr>\n",
       "    <tr>\n",
       "      <th>2</th>\n",
       "      <td>Palo Alto</td>\n",
       "      <td>226</td>\n",
       "      <td>8596</td>\n",
       "      <td>38.035398</td>\n",
       "    </tr>\n",
       "    <tr>\n",
       "      <th>3</th>\n",
       "      <td>San Jose</td>\n",
       "      <td>85</td>\n",
       "      <td>2098</td>\n",
       "      <td>24.682353</td>\n",
       "    </tr>\n",
       "  </tbody>\n",
       "</table>\n",
       "</div>"
      ],
      "text/plain": [
       "  delivery_region  driver_id_x  driver_id_y  avg_order\n",
       "0   Mountain View          120         2740  22.833333\n",
       "1            None            8           15   1.875000\n",
       "2       Palo Alto          226         8596  38.035398\n",
       "3        San Jose           85         2098  24.682353"
      ]
     },
     "execution_count": 99,
     "metadata": {},
     "output_type": "execute_result"
    }
   ],
   "source": [
    "#calculating avg orders per driver in each region\n",
    "ratio_df['avg_order'] = ratio_df['driver_id_y']/ratio_df['driver_id_x']\n",
    "ratio_df"
   ]
  },
  {
   "cell_type": "markdown",
   "metadata": {},
   "source": [
    "### Which is the most ordered meal of the day"
   ]
  },
  {
   "cell_type": "code",
   "execution_count": 104,
   "metadata": {},
   "outputs": [],
   "source": [
    "newdf['placed_order_with_restaurant_hour'] = newdf['placed_order_with_restaurant_pst'].apply(lambda x: x.hour);\n",
    "newdf['placed_order_with_restaurant_hour'] = newdf['placed_order_with_restaurant_hour'].astype(int)"
   ]
  },
  {
   "cell_type": "code",
   "execution_count": 106,
   "metadata": {},
   "outputs": [],
   "source": [
    "#creating Breakfast, Lunch & Dinner buckets based on the hour of the day\n",
    "\n",
    "def func(x):\n",
    "    if 3 < x <= 9:\n",
    "        return 'Breakfast'\n",
    "    elif 9 < x <= 16:\n",
    "        return 'Lunch'\n",
    "    return 'Dinner'\n",
    "\n",
    "newdf['meal_of_the_day'] = newdf['placed_order_with_restaurant_hour'].apply(func)"
   ]
  },
  {
   "cell_type": "code",
   "execution_count": 107,
   "metadata": {},
   "outputs": [],
   "source": [
    "sales_by_meal = newdf.groupby(['delivery_region','meal_of_the_day']).size().reset_index(name='counts')"
   ]
  },
  {
   "cell_type": "code",
   "execution_count": 111,
   "metadata": {},
   "outputs": [
    {
     "data": {
      "image/png": "[encoded data removed]",
      "text/plain": [
       "<Figure size 447.05x360 with 1 Axes>"
      ]
     },
     "metadata": {},
     "output_type": "display_data"
    }
   ],
   "source": [
    "sns.set(style=\"darkgrid\")\n",
    "a4_dims=(12,4)\n",
    "gr=sns.factorplot(x='delivery_region', y='counts', hue='meal_of_the_day', data=sales_by_meal, kind='bar');\n",
    "gr.fig.suptitle(\"Most Ordered Meal of the Day\",fontsize=15);"
   ]
  },
  {
   "cell_type": "markdown",
   "metadata": {},
   "source": [
    "**Observation:** Dinner is the most ordered meal of the day in all the regions followed by Lunch and then Breakfast"
   ]
  },
  {
   "cell_type": "markdown",
   "metadata": {},
   "source": [
    "### Daily Orders"
   ]
  },
  {
   "cell_type": "code",
   "execution_count": 112,
   "metadata": {},
   "outputs": [
    {
     "data": {
      "image/png": "[encoded data removed]",
      "text/plain": [
       "<Figure size 1152x504 with 1 Axes>"
      ]
     },
     "metadata": {},
     "output_type": "display_data"
    }
   ],
   "source": [
    "daily_orders = newdf.groupby('placed_order_with_restaurant_day',as_index=False).agg({'meal_of_the_day':'count'})\n",
    "dims=(16,7)\n",
    "fig, axes = plt.subplots(nrows=1,ncols=1,figsize=dims)\n",
    "axes.plot(daily_orders['placed_order_with_restaurant_day'],daily_orders['meal_of_the_day'],label='Daily Orders')\n",
    "axes.set_xlabel(\"Day\")\n",
    "axes.set_ylabel(\"# Orders\")\n",
    "axes.legend(loc=0);"
   ]
  },
  {
   "cell_type": "markdown",
   "metadata": {},
   "source": [
    "### Hourly Orders "
   ]
  },
  {
   "cell_type": "code",
   "execution_count": 113,
   "metadata": {},
   "outputs": [
    {
     "data": {
      "image/png": "[encoded data removed]",
      "text/plain": [
       "<Figure size 1152x504 with 1 Axes>"
      ]
     },
     "metadata": {},
     "output_type": "display_data"
    }
   ],
   "source": [
    "hourly_orders = newdf.groupby('placed_order_with_restaurant_hour',as_index=False).agg({'meal_of_the_day':'count'})\n",
    "dims=(16,7)\n",
    "fig, axes = plt.subplots(nrows=1,ncols=1,figsize=dims)\n",
    "axes.plot(hourly_orders['placed_order_with_restaurant_hour'],hourly_orders['meal_of_the_day'],label='Hourly Orders')\n",
    "axes.set_xlabel(\"Day\")\n",
    "axes.set_ylabel(\"# Orders\")\n",
    "axes.legend(loc=0);"
   ]
  },
  {
   "cell_type": "markdown",
   "metadata": {},
   "source": [
    "## Analysis in Progress"
   ]
  },
  {
   "cell_type": "markdown",
   "metadata": {},
   "source": [
    "### Daily New Users vs Returning Users"
   ]
  },
  {
   "cell_type": "markdown",
   "metadata": {},
   "source": [
    ">**New Users** - Users with is_new flag as true"
   ]
  },
  {
   "cell_type": "markdown",
   "metadata": {},
   "source": [
    ">**Returning Users** - Users who have a prior order (is_new flag is false)"
   ]
  },
  {
   "cell_type": "code",
   "execution_count": 115,
   "metadata": {},
   "outputs": [],
   "source": [
    "daily_new_users = newdf[newdf['is_new']==True].groupby('customer_placed_order_day',as_index=False).agg({'consumer_id':'count'})\n",
    "daily_repeat_users = newdf[newdf['is_new']==False].groupby('customer_placed_order_day',as_index=False).agg({'consumer_id':'count'})"
   ]
  },
  {
   "cell_type": "code",
   "execution_count": 118,
   "metadata": {},
   "outputs": [
    {
     "data": {
      "image/png": "[encoded data removed]",
      "text/plain": [
       "<Figure size 1152x504 with 2 Axes>"
      ]
     },
     "metadata": {},
     "output_type": "display_data"
    }
   ],
   "source": [
    "dims=(16,7)\n",
    "fig, axes = plt.subplots(nrows=1,ncols=2,figsize=dims)\n",
    "axes[0].plot(daily_new_users['customer_placed_order_day'],daily_new_users['consumer_id'],label='Daily New Users')\n",
    "axes[0].set_xlabel(\"Day\")\n",
    "axes[0].set_ylabel(\"# New Users\")\n",
    "axes[0].legend(loc=0)\n",
    "\n",
    "axes[1].plot(daily_repeat_users['customer_placed_order_day'],daily_repeat_users['consumer_id'],label='Returning Users',color='red')\n",
    "axes[1].legend(loc=0)\n",
    "axes[1].set_ylabel(\"# Returning Users\")\n",
    "axes[1].set_xlabel(\"Day\")\n",
    "\n",
    "plt.tight_layout()"
   ]
  },
  {
   "cell_type": "markdown",
   "metadata": {},
   "source": [
    "**Observation** - There is a definite drop in users at the end of the month"
   ]
  },
  {
   "cell_type": "code",
   "execution_count": 352,
   "metadata": {},
   "outputs": [
    {
     "data": {
      "text/html": [
       "<div>\n",
       "<style scoped>\n",
       "    .dataframe tbody tr th:only-of-type {\n",
       "        vertical-align: middle;\n",
       "    }\n",
       "\n",
       "    .dataframe tbody tr th {\n",
       "        vertical-align: top;\n",
       "    }\n",
       "\n",
       "    .dataframe thead th {\n",
       "        text-align: right;\n",
       "    }\n",
       "</style>\n",
       "<table border=\"1\" class=\"dataframe\">\n",
       "  <thead>\n",
       "    <tr style=\"text-align: right;\">\n",
       "      <th></th>\n",
       "      <th>is_new</th>\n",
       "      <th>consumer_id</th>\n",
       "      <th>counts</th>\n",
       "    </tr>\n",
       "  </thead>\n",
       "  <tbody>\n",
       "    <tr>\n",
       "      <th>4926</th>\n",
       "      <td>True</td>\n",
       "      <td>514</td>\n",
       "      <td>12</td>\n",
       "    </tr>\n",
       "    <tr>\n",
       "      <th>4922</th>\n",
       "      <td>True</td>\n",
       "      <td>459</td>\n",
       "      <td>7</td>\n",
       "    </tr>\n",
       "    <tr>\n",
       "      <th>4961</th>\n",
       "      <td>True</td>\n",
       "      <td>929</td>\n",
       "      <td>6</td>\n",
       "    </tr>\n",
       "    <tr>\n",
       "      <th>5815</th>\n",
       "      <td>True</td>\n",
       "      <td>14062</td>\n",
       "      <td>6</td>\n",
       "    </tr>\n",
       "    <tr>\n",
       "      <th>6371</th>\n",
       "      <td>True</td>\n",
       "      <td>78977</td>\n",
       "      <td>6</td>\n",
       "    </tr>\n",
       "  </tbody>\n",
       "</table>\n",
       "</div>"
      ],
      "text/plain": [
       "      is_new  consumer_id  counts\n",
       "4926    True          514      12\n",
       "4922    True          459       7\n",
       "4961    True          929       6\n",
       "5815    True        14062       6\n",
       "6371    True        78977       6"
      ]
     },
     "execution_count": 352,
     "metadata": {},
     "output_type": "execute_result"
    }
   ],
   "source": [
    "#number of first time ordering customers\n",
    "new_customers = ddf.groupby(['is_new','consumer_id']).size().reset_index(name='counts')\n",
    "new_customers[(new_customers['is_new']==True) & (new_customers['counts']>1)].sort_values(by='counts',ascending=False).head(5)"
   ]
  },
  {
   "cell_type": "markdown",
   "metadata": {},
   "source": [
    "**Observation:** As per **is_new** column definition, any consumer who is ordering for the first time are considered new. However, there **657** consumers who are marked new in multiple entries which makes it an anomaly. Based on the definition a consumer ordering more than once should be a returning consumer and not a new consumer "
   ]
  },
  {
   "cell_type": "markdown",
   "metadata": {},
   "source": [
    "### Is there a relationship between discounts given and returning consumer"
   ]
  },
  {
   "cell_type": "markdown",
   "metadata": {},
   "source": [
    ">**Returning Consumer** - any consumer who is ordering more than 1 time is considered as returning consumer"
   ]
  },
  {
   "cell_type": "code",
   "execution_count": 272,
   "metadata": {},
   "outputs": [
    {
     "data": {
      "text/html": [
       "<div>\n",
       "<style scoped>\n",
       "    .dataframe tbody tr th:only-of-type {\n",
       "        vertical-align: middle;\n",
       "    }\n",
       "\n",
       "    .dataframe tbody tr th {\n",
       "        vertical-align: top;\n",
       "    }\n",
       "\n",
       "    .dataframe thead th {\n",
       "        text-align: right;\n",
       "    }\n",
       "</style>\n",
       "<table border=\"1\" class=\"dataframe\">\n",
       "  <thead>\n",
       "    <tr style=\"text-align: right;\">\n",
       "      <th></th>\n",
       "      <th>customer_placed_order_datetime</th>\n",
       "      <th>placed_order_with_restaurant_datetime</th>\n",
       "      <th>driver_at_restaurant_datetime</th>\n",
       "      <th>delivered_to_consumer_datetime</th>\n",
       "      <th>driver_id</th>\n",
       "      <th>restaurant_id</th>\n",
       "      <th>consumer_id</th>\n",
       "      <th>is_new</th>\n",
       "      <th>delivery_region</th>\n",
       "      <th>is_asap</th>\n",
       "      <th>order_total</th>\n",
       "      <th>amount_of_discount</th>\n",
       "      <th>amount_of_tip</th>\n",
       "      <th>refunded_amount</th>\n",
       "      <th>discount_percent</th>\n",
       "    </tr>\n",
       "  </thead>\n",
       "  <tbody>\n",
       "    <tr>\n",
       "      <th>0</th>\n",
       "      <td>14 20:27:45</td>\n",
       "      <td>14 20:29:41</td>\n",
       "      <td>14 20:39:32</td>\n",
       "      <td>14 20:52:03</td>\n",
       "      <td>86</td>\n",
       "      <td>12</td>\n",
       "      <td>5</td>\n",
       "      <td>False</td>\n",
       "      <td>Palo Alto</td>\n",
       "      <td>True</td>\n",
       "      <td>20.45</td>\n",
       "      <td>20.45</td>\n",
       "      <td>3.07</td>\n",
       "      <td>0.0</td>\n",
       "      <td>100.0</td>\n",
       "    </tr>\n",
       "    <tr>\n",
       "      <th>1</th>\n",
       "      <td>07 20:16:28</td>\n",
       "      <td>07 20:17:32</td>\n",
       "      <td>07 20:36:00</td>\n",
       "      <td>07 20:49:02</td>\n",
       "      <td>325</td>\n",
       "      <td>66</td>\n",
       "      <td>5</td>\n",
       "      <td>False</td>\n",
       "      <td>Palo Alto</td>\n",
       "      <td>True</td>\n",
       "      <td>40.62</td>\n",
       "      <td>40.62</td>\n",
       "      <td>3.73</td>\n",
       "      <td>0.0</td>\n",
       "      <td>100.0</td>\n",
       "    </tr>\n",
       "    <tr>\n",
       "      <th>2</th>\n",
       "      <td>13 19:35:09</td>\n",
       "      <td>13 19:39:26</td>\n",
       "      <td>13 20:28:16</td>\n",
       "      <td>13 20:52:44</td>\n",
       "      <td>200</td>\n",
       "      <td>124</td>\n",
       "      <td>5</td>\n",
       "      <td>False</td>\n",
       "      <td>Palo Alto</td>\n",
       "      <td>True</td>\n",
       "      <td>37.78</td>\n",
       "      <td>37.78</td>\n",
       "      <td>1.89</td>\n",
       "      <td>0.0</td>\n",
       "      <td>100.0</td>\n",
       "    </tr>\n",
       "    <tr>\n",
       "      <th>3</th>\n",
       "      <td>22 19:47:53</td>\n",
       "      <td>22 19:56:08</td>\n",
       "      <td>22 20:01:20</td>\n",
       "      <td>22 20:18:01</td>\n",
       "      <td>154</td>\n",
       "      <td>5</td>\n",
       "      <td>14</td>\n",
       "      <td>False</td>\n",
       "      <td>Palo Alto</td>\n",
       "      <td>True</td>\n",
       "      <td>39.66</td>\n",
       "      <td>0.00</td>\n",
       "      <td>1.98</td>\n",
       "      <td>0.0</td>\n",
       "      <td>0.0</td>\n",
       "    </tr>\n",
       "    <tr>\n",
       "      <th>4</th>\n",
       "      <td>03 19:01:52</td>\n",
       "      <td>03 19:09:08</td>\n",
       "      <td>03 19:36:20</td>\n",
       "      <td>03 19:45:26</td>\n",
       "      <td>332</td>\n",
       "      <td>9</td>\n",
       "      <td>14</td>\n",
       "      <td>False</td>\n",
       "      <td>Palo Alto</td>\n",
       "      <td>True</td>\n",
       "      <td>39.66</td>\n",
       "      <td>0.00</td>\n",
       "      <td>5.95</td>\n",
       "      <td>0.0</td>\n",
       "      <td>0.0</td>\n",
       "    </tr>\n",
       "  </tbody>\n",
       "</table>\n",
       "</div>"
      ],
      "text/plain": [
       "  customer_placed_order_datetime placed_order_with_restaurant_datetime  \\\n",
       "0                    14 20:27:45                           14 20:29:41   \n",
       "1                    07 20:16:28                           07 20:17:32   \n",
       "2                    13 19:35:09                           13 19:39:26   \n",
       "3                    22 19:47:53                           22 19:56:08   \n",
       "4                    03 19:01:52                           03 19:09:08   \n",
       "\n",
       "  driver_at_restaurant_datetime delivered_to_consumer_datetime  driver_id  \\\n",
       "0                   14 20:39:32                    14 20:52:03         86   \n",
       "1                   07 20:36:00                    07 20:49:02        325   \n",
       "2                   13 20:28:16                    13 20:52:44        200   \n",
       "3                   22 20:01:20                    22 20:18:01        154   \n",
       "4                   03 19:36:20                    03 19:45:26        332   \n",
       "\n",
       "   restaurant_id  consumer_id  is_new delivery_region  is_asap  order_total  \\\n",
       "0             12            5   False       Palo Alto     True        20.45   \n",
       "1             66            5   False       Palo Alto     True        40.62   \n",
       "2            124            5   False       Palo Alto     True        37.78   \n",
       "3              5           14   False       Palo Alto     True        39.66   \n",
       "4              9           14   False       Palo Alto     True        39.66   \n",
       "\n",
       "   amount_of_discount  amount_of_tip  refunded_amount  discount_percent  \n",
       "0               20.45           3.07              0.0             100.0  \n",
       "1               40.62           3.73              0.0             100.0  \n",
       "2               37.78           1.89              0.0             100.0  \n",
       "3                0.00           1.98              0.0               0.0  \n",
       "4                0.00           5.95              0.0               0.0  "
      ]
     },
     "execution_count": 272,
     "metadata": {},
     "output_type": "execute_result"
    }
   ],
   "source": [
    "#discount percentage per order\n",
    "\n",
    "df['discount_percent'] = (df['amount_of_discount']/df['order_total'])*100\n",
    "df.head()"
   ]
  },
  {
   "cell_type": "code",
   "execution_count": 293,
   "metadata": {},
   "outputs": [],
   "source": [
    "def discount_buckets(x):\n",
    "    if 0<=x<1:\n",
    "        return '0'\n",
    "    elif 1 <= x <= 5:\n",
    "        return '1-5'\n",
    "    elif 5 < x <= 10:\n",
    "        return '6-10'\n",
    "    elif 10 < x <= 15:\n",
    "        return '11-15'\n",
    "    elif 15 < x <= 20:\n",
    "        return '16-20'\n",
    "    elif 20 < x <= 50:\n",
    "        return '21-50'\n",
    "    elif 50 < x <= 75:\n",
    "        return '51-75'\n",
    "    return '76-100'\n",
    "\n",
    "df['discount_bucket'] = df['discount_percent'].apply(discount_buckets)"
   ]
  },
  {
   "cell_type": "code",
   "execution_count": 300,
   "metadata": {},
   "outputs": [],
   "source": [
    "orders_discount_bucket = df.groupby('discount_bucket').size().reset_index(name='counts')"
   ]
  },
  {
   "cell_type": "code",
   "execution_count": 301,
   "metadata": {},
   "outputs": [
    {
     "data": {
      "image/png": "[encoded data removed]",
      "text/plain": [
       "<Figure size 864x288 with 1 Axes>"
      ]
     },
     "metadata": {},
     "output_type": "display_data"
    }
   ],
   "source": [
    "sns.set(style=\"darkgrid\")\n",
    "a4_dims=(12,4)\n",
    "fig, ax = plt.subplots(figsize=a4_dims)\n",
    "gr = sns.barplot(x=\"discount_bucket\",y=('counts'),data=orders_discount_bucket)\n",
    "gr.set_xticklabels(ax.get_xticklabels(),rotation=90);\n",
    "gr.set_title(\"Number of Orders\",fontsize=20);\n",
    "ax.set(ylabel=' Number of Orders ', xlabel='Discount Buckets');"
   ]
  },
  {
   "cell_type": "code",
   "execution_count": 270,
   "metadata": {
    "scrolled": true
   },
   "outputs": [
    {
     "data": {
      "text/html": [
       "<div>\n",
       "<style scoped>\n",
       "    .dataframe tbody tr th:only-of-type {\n",
       "        vertical-align: middle;\n",
       "    }\n",
       "\n",
       "    .dataframe tbody tr th {\n",
       "        vertical-align: top;\n",
       "    }\n",
       "\n",
       "    .dataframe thead th {\n",
       "        text-align: right;\n",
       "    }\n",
       "</style>\n",
       "<table border=\"1\" class=\"dataframe\">\n",
       "  <thead>\n",
       "    <tr style=\"text-align: right;\">\n",
       "      <th></th>\n",
       "      <th>consumer_id</th>\n",
       "      <th>amount_of_discount</th>\n",
       "      <th>order_total</th>\n",
       "      <th>order_counts</th>\n",
       "    </tr>\n",
       "  </thead>\n",
       "  <tbody>\n",
       "    <tr>\n",
       "      <th>95</th>\n",
       "      <td>514</td>\n",
       "      <td>5228.59</td>\n",
       "      <td>5262.26</td>\n",
       "      <td>66</td>\n",
       "    </tr>\n",
       "    <tr>\n",
       "      <th>3828</th>\n",
       "      <td>36970</td>\n",
       "      <td>212.66</td>\n",
       "      <td>389.92</td>\n",
       "      <td>7</td>\n",
       "    </tr>\n",
       "    <tr>\n",
       "      <th>1937</th>\n",
       "      <td>7864</td>\n",
       "      <td>200.00</td>\n",
       "      <td>272.11</td>\n",
       "      <td>6</td>\n",
       "    </tr>\n",
       "    <tr>\n",
       "      <th>2900</th>\n",
       "      <td>12325</td>\n",
       "      <td>149.41</td>\n",
       "      <td>149.41</td>\n",
       "      <td>3</td>\n",
       "    </tr>\n",
       "    <tr>\n",
       "      <th>2048</th>\n",
       "      <td>8398</td>\n",
       "      <td>120.00</td>\n",
       "      <td>442.26</td>\n",
       "      <td>7</td>\n",
       "    </tr>\n",
       "    <tr>\n",
       "      <th>2761</th>\n",
       "      <td>11615</td>\n",
       "      <td>100.00</td>\n",
       "      <td>412.32</td>\n",
       "      <td>7</td>\n",
       "    </tr>\n",
       "    <tr>\n",
       "      <th>0</th>\n",
       "      <td>5</td>\n",
       "      <td>98.85</td>\n",
       "      <td>98.85</td>\n",
       "      <td>3</td>\n",
       "    </tr>\n",
       "    <tr>\n",
       "      <th>2641</th>\n",
       "      <td>11096</td>\n",
       "      <td>93.35</td>\n",
       "      <td>166.18</td>\n",
       "      <td>3</td>\n",
       "    </tr>\n",
       "    <tr>\n",
       "      <th>437</th>\n",
       "      <td>1743</td>\n",
       "      <td>87.11</td>\n",
       "      <td>87.11</td>\n",
       "      <td>3</td>\n",
       "    </tr>\n",
       "    <tr>\n",
       "      <th>83</th>\n",
       "      <td>475</td>\n",
       "      <td>66.71</td>\n",
       "      <td>66.71</td>\n",
       "      <td>4</td>\n",
       "    </tr>\n",
       "    <tr>\n",
       "      <th>402</th>\n",
       "      <td>1598</td>\n",
       "      <td>60.00</td>\n",
       "      <td>149.21</td>\n",
       "      <td>3</td>\n",
       "    </tr>\n",
       "    <tr>\n",
       "      <th>5569</th>\n",
       "      <td>98316</td>\n",
       "      <td>49.00</td>\n",
       "      <td>212.80</td>\n",
       "      <td>4</td>\n",
       "    </tr>\n",
       "    <tr>\n",
       "      <th>6156</th>\n",
       "      <td>111761</td>\n",
       "      <td>46.00</td>\n",
       "      <td>56.59</td>\n",
       "      <td>2</td>\n",
       "    </tr>\n",
       "    <tr>\n",
       "      <th>3282</th>\n",
       "      <td>14062</td>\n",
       "      <td>45.18</td>\n",
       "      <td>523.74</td>\n",
       "      <td>14</td>\n",
       "    </tr>\n",
       "    <tr>\n",
       "      <th>3196</th>\n",
       "      <td>13596</td>\n",
       "      <td>40.89</td>\n",
       "      <td>119.74</td>\n",
       "      <td>3</td>\n",
       "    </tr>\n",
       "    <tr>\n",
       "      <th>1035</th>\n",
       "      <td>3733</td>\n",
       "      <td>40.00</td>\n",
       "      <td>126.43</td>\n",
       "      <td>3</td>\n",
       "    </tr>\n",
       "    <tr>\n",
       "      <th>4101</th>\n",
       "      <td>53380</td>\n",
       "      <td>40.00</td>\n",
       "      <td>75.36</td>\n",
       "      <td>3</td>\n",
       "    </tr>\n",
       "    <tr>\n",
       "      <th>306</th>\n",
       "      <td>1296</td>\n",
       "      <td>40.00</td>\n",
       "      <td>100.30</td>\n",
       "      <td>2</td>\n",
       "    </tr>\n",
       "    <tr>\n",
       "      <th>3671</th>\n",
       "      <td>27192</td>\n",
       "      <td>36.28</td>\n",
       "      <td>143.86</td>\n",
       "      <td>6</td>\n",
       "    </tr>\n",
       "    <tr>\n",
       "      <th>1162</th>\n",
       "      <td>4263</td>\n",
       "      <td>32.59</td>\n",
       "      <td>58.22</td>\n",
       "      <td>2</td>\n",
       "    </tr>\n",
       "    <tr>\n",
       "      <th>2089</th>\n",
       "      <td>8579</td>\n",
       "      <td>32.20</td>\n",
       "      <td>53.95</td>\n",
       "      <td>3</td>\n",
       "    </tr>\n",
       "    <tr>\n",
       "      <th>2134</th>\n",
       "      <td>8838</td>\n",
       "      <td>32.04</td>\n",
       "      <td>40.16</td>\n",
       "      <td>2</td>\n",
       "    </tr>\n",
       "    <tr>\n",
       "      <th>542</th>\n",
       "      <td>2115</td>\n",
       "      <td>32.00</td>\n",
       "      <td>240.24</td>\n",
       "      <td>5</td>\n",
       "    </tr>\n",
       "    <tr>\n",
       "      <th>4329</th>\n",
       "      <td>63401</td>\n",
       "      <td>30.00</td>\n",
       "      <td>281.03</td>\n",
       "      <td>4</td>\n",
       "    </tr>\n",
       "    <tr>\n",
       "      <th>242</th>\n",
       "      <td>1062</td>\n",
       "      <td>30.00</td>\n",
       "      <td>65.72</td>\n",
       "      <td>2</td>\n",
       "    </tr>\n",
       "    <tr>\n",
       "      <th>1138</th>\n",
       "      <td>4167</td>\n",
       "      <td>29.34</td>\n",
       "      <td>87.53</td>\n",
       "      <td>8</td>\n",
       "    </tr>\n",
       "    <tr>\n",
       "      <th>5794</th>\n",
       "      <td>103690</td>\n",
       "      <td>26.00</td>\n",
       "      <td>122.71</td>\n",
       "      <td>2</td>\n",
       "    </tr>\n",
       "    <tr>\n",
       "      <th>1086</th>\n",
       "      <td>3949</td>\n",
       "      <td>25.00</td>\n",
       "      <td>133.15</td>\n",
       "      <td>5</td>\n",
       "    </tr>\n",
       "    <tr>\n",
       "      <th>177</th>\n",
       "      <td>801</td>\n",
       "      <td>24.29</td>\n",
       "      <td>66.88</td>\n",
       "      <td>3</td>\n",
       "    </tr>\n",
       "    <tr>\n",
       "      <th>2463</th>\n",
       "      <td>10279</td>\n",
       "      <td>23.42</td>\n",
       "      <td>34.24</td>\n",
       "      <td>2</td>\n",
       "    </tr>\n",
       "    <tr>\n",
       "      <th>...</th>\n",
       "      <td>...</td>\n",
       "      <td>...</td>\n",
       "      <td>...</td>\n",
       "      <td>...</td>\n",
       "    </tr>\n",
       "    <tr>\n",
       "      <th>4051</th>\n",
       "      <td>49444</td>\n",
       "      <td>0.00</td>\n",
       "      <td>96.11</td>\n",
       "      <td>2</td>\n",
       "    </tr>\n",
       "    <tr>\n",
       "      <th>4039</th>\n",
       "      <td>48978</td>\n",
       "      <td>0.00</td>\n",
       "      <td>57.03</td>\n",
       "      <td>2</td>\n",
       "    </tr>\n",
       "    <tr>\n",
       "      <th>4041</th>\n",
       "      <td>49146</td>\n",
       "      <td>0.00</td>\n",
       "      <td>122.31</td>\n",
       "      <td>2</td>\n",
       "    </tr>\n",
       "    <tr>\n",
       "      <th>4045</th>\n",
       "      <td>49213</td>\n",
       "      <td>0.00</td>\n",
       "      <td>54.19</td>\n",
       "      <td>2</td>\n",
       "    </tr>\n",
       "    <tr>\n",
       "      <th>3954</th>\n",
       "      <td>44509</td>\n",
       "      <td>0.00</td>\n",
       "      <td>63.48</td>\n",
       "      <td>2</td>\n",
       "    </tr>\n",
       "    <tr>\n",
       "      <th>3952</th>\n",
       "      <td>44483</td>\n",
       "      <td>0.00</td>\n",
       "      <td>104.40</td>\n",
       "      <td>2</td>\n",
       "    </tr>\n",
       "    <tr>\n",
       "      <th>3862</th>\n",
       "      <td>38523</td>\n",
       "      <td>0.00</td>\n",
       "      <td>55.28</td>\n",
       "      <td>2</td>\n",
       "    </tr>\n",
       "    <tr>\n",
       "      <th>3863</th>\n",
       "      <td>38548</td>\n",
       "      <td>0.00</td>\n",
       "      <td>103.18</td>\n",
       "      <td>2</td>\n",
       "    </tr>\n",
       "    <tr>\n",
       "      <th>3869</th>\n",
       "      <td>38890</td>\n",
       "      <td>0.00</td>\n",
       "      <td>223.75</td>\n",
       "      <td>2</td>\n",
       "    </tr>\n",
       "    <tr>\n",
       "      <th>3875</th>\n",
       "      <td>39191</td>\n",
       "      <td>0.00</td>\n",
       "      <td>101.99</td>\n",
       "      <td>2</td>\n",
       "    </tr>\n",
       "    <tr>\n",
       "      <th>2294</th>\n",
       "      <td>9625</td>\n",
       "      <td>0.00</td>\n",
       "      <td>78.78</td>\n",
       "      <td>2</td>\n",
       "    </tr>\n",
       "    <tr>\n",
       "      <th>3831</th>\n",
       "      <td>37058</td>\n",
       "      <td>0.00</td>\n",
       "      <td>78.82</td>\n",
       "      <td>2</td>\n",
       "    </tr>\n",
       "    <tr>\n",
       "      <th>2296</th>\n",
       "      <td>9639</td>\n",
       "      <td>0.00</td>\n",
       "      <td>86.98</td>\n",
       "      <td>2</td>\n",
       "    </tr>\n",
       "    <tr>\n",
       "      <th>3841</th>\n",
       "      <td>37629</td>\n",
       "      <td>0.00</td>\n",
       "      <td>43.42</td>\n",
       "      <td>2</td>\n",
       "    </tr>\n",
       "    <tr>\n",
       "      <th>3843</th>\n",
       "      <td>37641</td>\n",
       "      <td>0.00</td>\n",
       "      <td>70.07</td>\n",
       "      <td>2</td>\n",
       "    </tr>\n",
       "    <tr>\n",
       "      <th>3847</th>\n",
       "      <td>38039</td>\n",
       "      <td>0.00</td>\n",
       "      <td>80.07</td>\n",
       "      <td>2</td>\n",
       "    </tr>\n",
       "    <tr>\n",
       "      <th>3849</th>\n",
       "      <td>38069</td>\n",
       "      <td>0.00</td>\n",
       "      <td>110.74</td>\n",
       "      <td>2</td>\n",
       "    </tr>\n",
       "    <tr>\n",
       "      <th>3921</th>\n",
       "      <td>42884</td>\n",
       "      <td>0.00</td>\n",
       "      <td>58.76</td>\n",
       "      <td>2</td>\n",
       "    </tr>\n",
       "    <tr>\n",
       "      <th>3925</th>\n",
       "      <td>42955</td>\n",
       "      <td>0.00</td>\n",
       "      <td>158.65</td>\n",
       "      <td>2</td>\n",
       "    </tr>\n",
       "    <tr>\n",
       "      <th>3928</th>\n",
       "      <td>43121</td>\n",
       "      <td>0.00</td>\n",
       "      <td>112.15</td>\n",
       "      <td>2</td>\n",
       "    </tr>\n",
       "    <tr>\n",
       "      <th>2279</th>\n",
       "      <td>9544</td>\n",
       "      <td>0.00</td>\n",
       "      <td>50.77</td>\n",
       "      <td>2</td>\n",
       "    </tr>\n",
       "    <tr>\n",
       "      <th>3941</th>\n",
       "      <td>43972</td>\n",
       "      <td>0.00</td>\n",
       "      <td>51.10</td>\n",
       "      <td>2</td>\n",
       "    </tr>\n",
       "    <tr>\n",
       "      <th>3946</th>\n",
       "      <td>44301</td>\n",
       "      <td>0.00</td>\n",
       "      <td>220.06</td>\n",
       "      <td>2</td>\n",
       "    </tr>\n",
       "    <tr>\n",
       "      <th>2275</th>\n",
       "      <td>9524</td>\n",
       "      <td>0.00</td>\n",
       "      <td>123.63</td>\n",
       "      <td>2</td>\n",
       "    </tr>\n",
       "    <tr>\n",
       "      <th>3890</th>\n",
       "      <td>40374</td>\n",
       "      <td>0.00</td>\n",
       "      <td>201.22</td>\n",
       "      <td>2</td>\n",
       "    </tr>\n",
       "    <tr>\n",
       "      <th>3891</th>\n",
       "      <td>40433</td>\n",
       "      <td>0.00</td>\n",
       "      <td>60.23</td>\n",
       "      <td>2</td>\n",
       "    </tr>\n",
       "    <tr>\n",
       "      <th>3905</th>\n",
       "      <td>41679</td>\n",
       "      <td>0.00</td>\n",
       "      <td>81.92</td>\n",
       "      <td>2</td>\n",
       "    </tr>\n",
       "    <tr>\n",
       "      <th>3909</th>\n",
       "      <td>42002</td>\n",
       "      <td>0.00</td>\n",
       "      <td>114.17</td>\n",
       "      <td>2</td>\n",
       "    </tr>\n",
       "    <tr>\n",
       "      <th>3910</th>\n",
       "      <td>42039</td>\n",
       "      <td>0.00</td>\n",
       "      <td>64.80</td>\n",
       "      <td>2</td>\n",
       "    </tr>\n",
       "    <tr>\n",
       "      <th>3915</th>\n",
       "      <td>42343</td>\n",
       "      <td>0.00</td>\n",
       "      <td>66.45</td>\n",
       "      <td>2</td>\n",
       "    </tr>\n",
       "  </tbody>\n",
       "</table>\n",
       "<p>3283 rows × 4 columns</p>\n",
       "</div>"
      ],
      "text/plain": [
       "      consumer_id  amount_of_discount  order_total  order_counts\n",
       "95            514             5228.59      5262.26            66\n",
       "3828        36970              212.66       389.92             7\n",
       "1937         7864              200.00       272.11             6\n",
       "2900        12325              149.41       149.41             3\n",
       "2048         8398              120.00       442.26             7\n",
       "2761        11615              100.00       412.32             7\n",
       "0               5               98.85        98.85             3\n",
       "2641        11096               93.35       166.18             3\n",
       "437          1743               87.11        87.11             3\n",
       "83            475               66.71        66.71             4\n",
       "402          1598               60.00       149.21             3\n",
       "5569        98316               49.00       212.80             4\n",
       "6156       111761               46.00        56.59             2\n",
       "3282        14062               45.18       523.74            14\n",
       "3196        13596               40.89       119.74             3\n",
       "1035         3733               40.00       126.43             3\n",
       "4101        53380               40.00        75.36             3\n",
       "306          1296               40.00       100.30             2\n",
       "3671        27192               36.28       143.86             6\n",
       "1162         4263               32.59        58.22             2\n",
       "2089         8579               32.20        53.95             3\n",
       "2134         8838               32.04        40.16             2\n",
       "542          2115               32.00       240.24             5\n",
       "4329        63401               30.00       281.03             4\n",
       "242          1062               30.00        65.72             2\n",
       "1138         4167               29.34        87.53             8\n",
       "5794       103690               26.00       122.71             2\n",
       "1086         3949               25.00       133.15             5\n",
       "177           801               24.29        66.88             3\n",
       "2463        10279               23.42        34.24             2\n",
       "...           ...                 ...          ...           ...\n",
       "4051        49444                0.00        96.11             2\n",
       "4039        48978                0.00        57.03             2\n",
       "4041        49146                0.00       122.31             2\n",
       "4045        49213                0.00        54.19             2\n",
       "3954        44509                0.00        63.48             2\n",
       "3952        44483                0.00       104.40             2\n",
       "3862        38523                0.00        55.28             2\n",
       "3863        38548                0.00       103.18             2\n",
       "3869        38890                0.00       223.75             2\n",
       "3875        39191                0.00       101.99             2\n",
       "2294         9625                0.00        78.78             2\n",
       "3831        37058                0.00        78.82             2\n",
       "2296         9639                0.00        86.98             2\n",
       "3841        37629                0.00        43.42             2\n",
       "3843        37641                0.00        70.07             2\n",
       "3847        38039                0.00        80.07             2\n",
       "3849        38069                0.00       110.74             2\n",
       "3921        42884                0.00        58.76             2\n",
       "3925        42955                0.00       158.65             2\n",
       "3928        43121                0.00       112.15             2\n",
       "2279         9544                0.00        50.77             2\n",
       "3941        43972                0.00        51.10             2\n",
       "3946        44301                0.00       220.06             2\n",
       "2275         9524                0.00       123.63             2\n",
       "3890        40374                0.00       201.22             2\n",
       "3891        40433                0.00        60.23             2\n",
       "3905        41679                0.00        81.92             2\n",
       "3909        42002                0.00       114.17             2\n",
       "3910        42039                0.00        64.80             2\n",
       "3915        42343                0.00        66.45             2\n",
       "\n",
       "[3283 rows x 4 columns]"
      ]
     },
     "execution_count": 270,
     "metadata": {},
     "output_type": "execute_result"
    }
   ],
   "source": [
    "#calculating discount and number of orders per consumer\n",
    "\n",
    "consumers_discount = df.groupby('consumer_id',as_index=False).agg({'amount_of_discount':'sum','order_total':'sum'}).sort_values(by='amount_of_discount',ascending=False)\n",
    "temp_df = df.groupby('consumer_id').size().reset_index(name='counts')\n",
    "consumers_discount['order_counts'] = temp_df['counts']\n",
    "consumers_discount['discount_percentage'] = \n",
    "consumers_discount[consumers_discount['order_counts']>1].sort_values(by=['amount_of_discount','order_counts'],ascending=[False,False])"
   ]
  }
 ],
 "metadata": {
  "kernelspec": {
   "display_name": "Python 3",
   "language": "python",
   "name": "python3"
  },
  "language_info": {
   "codemirror_mode": {
    "name": "ipython",
    "version": 3
   },
   "file_extension": ".py",
   "mimetype": "text/x-python",
   "name": "python",
   "nbconvert_exporter": "python",
   "pygments_lexer": "ipython3",
   "version": "3.6.7"
  }
 },
 "nbformat": 4,
 "nbformat_minor": 2
}
